{
 "cells": [
  {
   "cell_type": "markdown",
   "metadata": {},
   "source": [
    "# Quantum Singular Value Transform (QSVT) for matrix inversion"
   ]
  },
  {
   "cell_type": "markdown",
   "metadata": {},
   "source": [
    "This notebook shows how to solve linear systems of equations using QSVT in PennyLane. The polynomial used corresponds to the polynomial of the pyqsp package https://github.com/ichuang/pyqsp."
   ]
  },
  {
   "cell_type": "code",
   "execution_count": 1,
   "metadata": {},
   "outputs": [],
   "source": [
    "# import python libraries\n",
    "import pennylane as qml\n",
    "from pennylane import numpy as np\n",
    "from matplotlib import pyplot as plt"
   ]
  },
  {
   "cell_type": "markdown",
   "metadata": {},
   "source": [
    "# Define linear system"
   ]
  },
  {
   "cell_type": "code",
   "execution_count": 2,
   "metadata": {},
   "outputs": [],
   "source": [
    "A = np.array(\n",
    "    [\n",
    "        [0.65713691, -0.05349524, 0.08024556, -0.07242864],\n",
    "        [-0.05349524, 0.65713691, -0.07242864, 0.08024556],\n",
    "        [0.08024556, -0.07242864, 0.65713691, -0.05349524],\n",
    "        [-0.07242864, 0.08024556, -0.05349524, 0.65713691],\n",
    "    ]\n",
    ")\n",
    "\n",
    "b = np.array([1, 2, 3, 4], dtype=\"complex\")\n",
    "target_x = np.linalg.inv(A) @ b  # true solution\n",
    "\n",
    "# Normalize states:\n",
    "norm_b = np.linalg.norm(b)\n",
    "b = b / norm_b\n",
    "\n",
    "norm_x = np.linalg.norm(target_x)\n",
    "normalized_x = target_x / norm_x"
   ]
  },
  {
   "cell_type": "markdown",
   "metadata": {},
   "source": [
    "# Define QSVT circuit"
   ]
  },
  {
   "cell_type": "code",
   "execution_count": 3,
   "metadata": {},
   "outputs": [],
   "source": [
    "def real_u(A, phi, qsvt_wires):\n",
    "    qml.Hadamard(wires=qsvt_wires[0])\n",
    "\n",
    "    qml.ctrl(qml.qsvt(A, phi, qsvt_wires[1:], convention=\"Wx\"), control=qsvt_wires[0], control_values=(0,))\n",
    "    qml.adjoint(qml.ctrl(qml.qsvt(A.T, phi, qsvt_wires[1:], convention=\"Wx\"), control=qsvt_wires[0], control_values=(1,)))\n",
    "    \n",
    "    qml.Hadamard(wires=qsvt_wires[0])\n",
    "\n",
    "def qsvt_ls(A, b, phi, qsvt_wires):\n",
    "    qml.StatePrep(b, wires=qsvt_wires[2:])\n",
    "    real_u(A.T, phi, qsvt_wires)  # invert the singular values of A transpose to get A^-1\n"
   ]
  },
  {
   "cell_type": "markdown",
   "metadata": {},
   "source": [
    "# Find phase angles to approximate $\\frac{1}{x}$ with a polynomial"
   ]
  },
  {
   "cell_type": "markdown",
   "metadata": {},
   "source": [
    "The polynomial is defined by standard QSP operators. The phase angles are provided by the pyqsp library."
   ]
  },
  {
   "cell_type": "code",
   "execution_count": 4,
   "metadata": {},
   "outputs": [
    {
     "name": "stdout",
     "output_type": "stream",
     "text": [
      "b=59, j0=21\n",
      "[PolyOneOverX] minimum [-4.92815952] is at [-0.14616797]: normalizing\n",
      "[PolyOneOverX] bounding to 0.5\n",
      "[pyqsp.PolyOneOverX] pcoefs=[ 0.00000000e+00  5.98556692e+00  0.00000000e+00 -1.73435642e+02\n",
      "  0.00000000e+00  3.28107630e+03  0.00000000e+00 -4.52832142e+04\n",
      "  0.00000000e+00  4.80871385e+05  0.00000000e+00 -4.03390187e+06\n",
      "  0.00000000e+00  2.70789137e+07  0.00000000e+00 -1.46432056e+08\n",
      "  0.00000000e+00  6.40422624e+08  0.00000000e+00 -2.27142395e+09\n",
      "  0.00000000e+00  6.54450332e+09  0.00000000e+00 -1.53259059e+10\n",
      "  0.00000000e+00  2.91387383e+10  0.00000000e+00 -4.48339014e+10\n",
      "  0.00000000e+00  5.54887226e+10  0.00000000e+00 -5.46999791e+10\n",
      "  0.00000000e+00  4.23016219e+10  0.00000000e+00 -2.50751640e+10\n",
      "  0.00000000e+00  1.09875684e+10  0.00000000e+00 -3.35056719e+09\n",
      "  0.00000000e+00  6.34463590e+08  0.00000000e+00 -5.61508354e+07]\n"
     ]
    }
   ],
   "source": [
    "# Define condition number\n",
    "kappa = 4\n",
    "\n",
    "# Use pyqsp to determine phase angles\n",
    "import pyqsp\n",
    "from pyqsp.angle_sequence import Polynomial, QuantumSignalProcessingPhases\n",
    "\n",
    "pcoefs, s_pyqsp = pyqsp.poly.PolyOneOverX().generate(kappa, return_coef=True, ensure_bounded=True, return_scale=True)\n",
    "phi_pyqsp = QuantumSignalProcessingPhases(pcoefs, signal_operator=\"Wx\", tolerance=0.00001)\n",
    "\n",
    "# s_pyqsp = 0.10145775\n",
    "# phi_pyqsp = [-1.5922142770532273, -0.03252949895974533, 0.06067372571024077, 0.3119249700528526, 0.21643648192810572, -0.6257675633866073, 2.2647603713275712, -2.9452302836036406, 0.7351754207364953, 0.2758836177105888, -0.11643337976620094, 0.649573162685275, 0.12829303551227234, -1.0892339063760752, 2.3144971667719467, -2.6272826402282705, -0.21949773265116868, 2.6389896276979274, -2.2213989345063783, 2.6543450662205297, -0.17021410564966066, -2.1307099378221315, 1.01088271573515, -0.17021410582656094, -0.487247587299507, 0.9201937191031345, -0.5026030261033417, -0.2194977327290849, 0.5143100130364344, -0.8270954871909815, 2.052358747478442, -3.0132996176161053, 0.6495731628695878, -0.11643337963853151, 0.27588361797184735, 0.7351754206492971, 0.19636236921530748, -0.8768322826914424, -0.6257675629979345, 0.21643648227708767, 0.31192496995906427, 0.06067372558084472, -0.03252949895439006, -0.0214179502139501]"
   ]
  },
  {
   "cell_type": "code",
   "execution_count": 5,
   "metadata": {},
   "outputs": [
    {
     "data": {
      "image/png": "[encoded data removed]",
      "text/plain": [
       "<Figure size 640x480 with 1 Axes>"
      ]
     },
     "metadata": {},
     "output_type": "display_data"
    }
   ],
   "source": [
    "def plot_poly_pyqsp(phi, s, kappa):\n",
    "    x_vals = np.linspace(0, 1, 50)\n",
    "    target_y_vals = [s * (1 / x) for x in np.linspace(s, 1, 50)]\n",
    "\n",
    "    qsvt_y_vals = []\n",
    "    for x in x_vals:\n",
    "        poly_x = qml.matrix(qml.qsvt, wire_order=[0])(\n",
    "            x, phi, wires=[0], convention=\"Wx\" \n",
    "        )\n",
    "        qsvt_y_vals.append(np.real(poly_x[0, 0]))\n",
    "    \n",
    "    plt.plot(x_vals, np.array(qsvt_y_vals), label=\"Re(qsvt)\")\n",
    "    plt.plot(np.linspace(s, 1, 50), target_y_vals, label=\"target\")\n",
    "\n",
    "    plt.vlines(1 / kappa, -1.0, 1.0, linestyle=\"--\", color=\"grey\", label=\"1/kappa\")\n",
    "    plt.vlines(0.0, -1.0, 1.0, color=\"black\")\n",
    "    plt.hlines(0.0, -0.1, 1.0, color=\"black\")\n",
    "\n",
    "    plt.legend()\n",
    "    plt.show()\n",
    "\n",
    "plot_poly_pyqsp(phi_pyqsp, s_pyqsp, kappa)"
   ]
  },
  {
   "cell_type": "markdown",
   "metadata": {},
   "source": [
    "# Solve linear system using QSVT"
   ]
  },
  {
   "cell_type": "code",
   "execution_count": 6,
   "metadata": {},
   "outputs": [],
   "source": [
    "ancilla_wires = [0]\n",
    "block_wire = [1]\n",
    "solution_wires = [2, 3]\n",
    "\n",
    "wires = ancilla_wires + block_wire + solution_wires\n",
    "\n",
    "dev = qml.device(\"default.qubit\", wires=wires)\n",
    "@qml.qnode(dev)\n",
    "def solve_ls(A, b):\n",
    "    qsvt_ls(A, b, phi_pyqsp, wires)\n",
    "\n",
    "    return qml.state()"
   ]
  },
  {
   "cell_type": "code",
   "execution_count": 7,
   "metadata": {},
   "outputs": [
    {
     "name": "stdout",
     "output_type": "stream",
     "text": [
      "[0.20539838 0.33532745 0.58192271 0.71185178]\n"
     ]
    }
   ],
   "source": [
    "# Result by QSVT\n",
    "qsvt_state = solve_ls(A, b)[:2**len(solution_wires)].real\n",
    "print(qsvt_state/np.linalg.norm(qsvt_state))"
   ]
  },
  {
   "cell_type": "code",
   "execution_count": 8,
   "metadata": {},
   "outputs": [
    {
     "name": "stdout",
     "output_type": "stream",
     "text": [
      "[0.20539461 0.33532754 0.58192117 0.71185409]\n"
     ]
    }
   ],
   "source": [
    "# Expected result\n",
    "print(normalized_x.real)"
   ]
  },
  {
   "cell_type": "markdown",
   "metadata": {},
   "source": [
    "The solutions found by QSVT are close to the expected values (up to a constant)."
   ]
  },
  {
   "cell_type": "code",
   "execution_count": 9,
   "metadata": {},
   "outputs": [
    {
     "data": {
      "image/png": "[encoded data removed]",
      "text/plain": [
       "<Figure size 500x300 with 1 Axes>"
      ]
     },
     "metadata": {},
     "output_type": "display_data"
    }
   ],
   "source": [
    "plt.figure(figsize=(5, 3))\n",
    "plt.plot(qsvt_state/np.linalg.norm(qsvt_state), marker='x', c='orange', label=\"QSVT\", ls=\"\")\n",
    "plt.plot(normalized_x.real, marker='+', c='green', label=\"Solution\", ls=\"\")\n",
    "plt.legend()\n",
    "plt.show()"
   ]
  }
 ],
 "metadata": {
  "kernelspec": {
   "display_name": "qml",
   "language": "python",
   "name": "python3"
  },
  "language_info": {
   "codemirror_mode": {
    "name": "ipython",
    "version": 3
   },
   "file_extension": ".py",
   "mimetype": "text/x-python",
   "name": "python",
   "nbconvert_exporter": "python",
   "pygments_lexer": "ipython3",
   "version": "3.12.4"
  }
 },
 "nbformat": 4,
 "nbformat_minor": 2
}
